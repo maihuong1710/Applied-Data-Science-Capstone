{
  "nbformat": 4,
  "nbformat_minor": 0,
  "metadata": {
    "colab": {
      "name": "Capstone Project_Business Problem.ipynb",
      "provenance": [],
      "authorship_tag": "ABX9TyPVOPoV5osfPmklVSLAMOyf",
      "include_colab_link": true
    },
    "kernelspec": {
      "name": "python3",
      "display_name": "Python 3"
    }
  },
  "cells": [
    {
      "cell_type": "markdown",
      "metadata": {
        "id": "view-in-github",
        "colab_type": "text"
      },
      "source": [
        "<a href=\"https://colab.research.google.com/github/maihuong1710/Applied-Data-Science-Capstone/blob/master/Capstone_Project_Business_Problem.ipynb\" target=\"_parent\"><img src=\"https://colab.research.google.com/assets/colab-badge.svg\" alt=\"Open In Colab\"/></a>"
      ]
    },
    {
      "cell_type": "markdown",
      "metadata": {
        "id": "omGBECAHAxqz",
        "colab_type": "text"
      },
      "source": [
        "# **A used bookstore in Montreal**\n",
        "\n",
        "*Business Problem:*\n",
        "\n",
        "Pearl Lee recently graduated from a university in Montreal, Quebec, Canada. During her student time, she realized that a lot of students cannot afford to buy new textbooks and the queue to borrow such textbooks from university library was always very long. As a student, she constantly thought of opening a used bookstore where students can buy textbooks at an affordable price. As soon as her graduation, she started to realised her idea: to open a used bookstore in Montreal. She teamed up with a data analyst team to find out where is the optimal place in Montreal to locate the bookstore.\n",
        "\n",
        "*Data Description:*\n",
        "\n",
        "\n",
        "\n",
        "*   List of Montreal boroughs to explore, segment, and cluster.\n",
        "*   Montreal's sociodemographic data which can be found at [Ville de Montreal - Profils sociodemographiques](http://ville.montreal.qc.ca/portal/page?_pageid=6897,68087755&_dad=portal&_schema=PORTAL)\n",
        "* Information on venues in Montreal extracted from Foursquare.com\n",
        "\n",
        "*Methodology*\n",
        "\n",
        "We will use K-mean clustering to segment and cluster Montreal boroughs to understand their similarity. With that understanding, we will be able to recommend a suitable place for Pearl Lee to set up her used bookstore. Such location would be few of bookstore, high rate of spending on education or books, and other criteria that would need to be explored during doing analysis."
      ]
    },
    {
      "cell_type": "code",
      "metadata": {
        "id": "13rjcZ6kAZ6M",
        "colab_type": "code",
        "colab": {}
      },
      "source": [
        ""
      ],
      "execution_count": 0,
      "outputs": []
    }
  ]
}